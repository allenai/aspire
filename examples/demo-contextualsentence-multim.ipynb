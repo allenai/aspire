{
 "cells": [
  {
   "cell_type": "markdown",
   "id": "de081c32",
   "metadata": {},
   "source": [
    "Script to demo example usage of the Aspire Multi-Vector encoder which represents documents via contextual sentence embeddings and is trained to make multiple matches between documents using optimal transport, i.e the models:\n",
    "\n",
    "[`allenai/aspire-contextualsentence-multim-biomed`](https://huggingface.co/allenai/aspire-contextualsentence-multim-biomed)\n",
    "\n",
    "[`allenai/aspire-contextualsentence-multim-compsci`](https://huggingface.co/allenai/aspire-contextualsentence-multim-compsci)\n",
    "\n",
    "Requirements:\n",
    "- transformers version: 4.5.1\n",
    "- torch version: 1.8.1\n",
    "- geomloss version: 0.2.4"
   ]
  },
  {
   "cell_type": "markdown",
   "id": "07f5ede9",
   "metadata": {},
   "source": [
    "### Imports"
   ]
  },
  {
   "cell_type": "code",
   "execution_count": 1,
   "id": "90b8a184",
   "metadata": {},
   "outputs": [],
   "source": [
    "%load_ext autoreload\n",
    "%autoreload 2\n",
    "%matplotlib inline"
   ]
  },
  {
   "cell_type": "code",
   "execution_count": 2,
   "id": "99e62a39",
   "metadata": {},
   "outputs": [],
   "source": [
    "from collections import namedtuple\n",
    "import numpy as np\n",
    "import torch\n",
    "from torch import nn as nn\n",
    "from torch.autograd import Variable\n",
    "from transformers import AutoModel, AutoTokenizer"
   ]
  },
  {
   "cell_type": "code",
   "execution_count": 3,
   "id": "6a4bff9d",
   "metadata": {},
   "outputs": [],
   "source": [
    "import matplotlib\n",
    "import matplotlib.pyplot as plt\n",
    "import seaborn as sns\n",
    "plt.rcParams['figure.dpi'] = 150"
   ]
  },
  {
   "cell_type": "code",
   "execution_count": 4,
   "id": "8af1a80e",
   "metadata": {},
   "outputs": [],
   "source": [
    "# Import model, distance, and pre-proc code from examples script.\n",
    "from ex_aspire_consent_multimatch import AspireConSent, AllPairMaskedWasserstein\n",
    "from ex_aspire_consent_multimatch import prepare_abstracts"
   ]
  },
  {
   "cell_type": "code",
   "execution_count": 7,
   "id": "2558da05",
   "metadata": {},
   "outputs": [],
   "source": [
    "rep_len_tup = namedtuple('RepLen', ['embed', 'abs_lens'])"
   ]
  },
  {
   "cell_type": "markdown",
   "id": "cb506099",
   "metadata": {},
   "source": [
    "### Example documents and alignments"
   ]
  },
  {
   "cell_type": "markdown",
   "id": "d93f2291",
   "metadata": {},
   "source": [
    "For a handful examples, prepare the data, embed it, and visualize the optimal transport plans/alignments for the computed sentence vectors."
   ]
  },
  {
   "cell_type": "code",
   "execution_count": 9,
   "id": "b8520866",
   "metadata": {},
   "outputs": [],
   "source": [
    "# Initialize the tokenizer, model, and distance function.\n",
    "hf_model_name = 'allenai/aspire-contextualsentence-multim-compsci'\n",
    "aspire_tok = AutoTokenizer.from_pretrained(hf_model_name)\n",
    "aspire_mv_model = AspireConSent(hf_model_name)\n",
    "# Empty dict of hyper params will force class to use defaults.\n",
    "ot_distance = AllPairMaskedWasserstein({})"
   ]
  },
  {
   "cell_type": "code",
   "execution_count": 10,
   "id": "b9495eec",
   "metadata": {},
   "outputs": [],
   "source": [
    "ex_abstracts = [\n",
    "    {'TITLE': \"Team Self-Managing Behaviors and Team Effectiveness: The Moderating Effect of Task Routineness\",\n",
    "     'ABSTRACT': [\"This study investigates the role of team members’ self-managing behaviors in regard to three dimensions of team effectiveness.\",\n",
    "                  \"Furthermore, this study examines the moderating effect of task routineness on these relationships.\",\n",
    "                  \"The sample consists of 97 work teams (341 members and 97 immediate supervisors) drawn from a public safety organization.\",\n",
    "                  \"Results show that team self-managing behaviors are positively related to team performance, team viability, and team process improvement.\",\n",
    "                  \"Results also indicate that task routineness moderates the relationships that team self-managing behaviors have with team performance and team viability such that these relationships are stronger when the level of task routineness is low.\",\n",
    "                  \"However, this moderating effect is not significant in regard to the relationship between team self-managing behaviors and team process improvement.\",\n",
    "                  \"Taken together, these findings suggest that emphasis on team self-managing behaviors may enhance team effectiveness\"]},\n",
    "    {'TITLE': \"Overcoming Barriers to Self-Management in Software Teams\",\n",
    "     'ABSTRACT': [\"The basic work unit in innovative software organizations is the team rather than the individual.\",\n",
    "                  \"Such teams consist of a small number of people with complementary skills who are committed to a common purpose, set of performance goals, and approach for which they hold themselves mutually accountable.\",\n",
    "                  \"Work teams have many advantages, such as increased productivity, innovation, and employee satisfaction.\",\n",
    "                  \"However, their implementation doesn't always result in organizational success.\",\n",
    "                  \"It isn't enough to put individuals together and expect that they'll automatically know how to work effectively as a team.\",\n",
    "                  \"Lack of redundancy and conflict between team and individual autonomy are key issues when transforming from traditional command-and-control management to collaborative self-managing teams.\"]}\n",
    "]"
   ]
  },
  {
   "cell_type": "code",
   "execution_count": 11,
   "id": "6812bc0a",
   "metadata": {},
   "outputs": [],
   "source": [
    "# Pre-process the data.\n",
    "bert_batch, abs_lens, sent_token_idxs = prepare_abstracts(batch_abs=ex_abstracts,\n",
    "                                                          pt_lm_tokenizer=aspire_tok)"
   ]
  },
  {
   "cell_type": "code",
   "execution_count": 12,
   "id": "2701c8d1",
   "metadata": {},
   "outputs": [],
   "source": [
    "# Get sentence embeddings for the papers.\n",
    "clsreps, contextual_sent_reps = aspire_mv_model.forward(bert_batch=bert_batch,\n",
    "                                                        abs_lens=abs_lens,\n",
    "                                                        sent_tok_idxs=sent_token_idxs)"
   ]
  },
  {
   "cell_type": "code",
   "execution_count": 13,
   "id": "5d4470c8",
   "metadata": {},
   "outputs": [
    {
     "name": "stdout",
     "output_type": "stream",
     "text": [
      "torch.Size([2, 7, 768])\n",
      "Number of sentences: 7, 6\n"
     ]
    }
   ],
   "source": [
    "# Check shapes\n",
    "print(contextual_sent_reps.shape)\n",
    "print(f'Number of sentences: {len(ex_abstracts[0][\"ABSTRACT\"])}, {len(ex_abstracts[1][\"ABSTRACT\"])}')"
   ]
  },
  {
   "cell_type": "code",
   "execution_count": 14,
   "id": "014b276e",
   "metadata": {},
   "outputs": [],
   "source": [
    "# Package the sentence embeds for use with the distance function\n",
    "query_embeds = contextual_sent_reps[0,:,:].unsqueeze(0)\n",
    "cand_embeds = contextual_sent_reps[1,:,:].unsqueeze(0)\n",
    "qt = rep_len_tup(embed=query_embeds.permute(0, 2, 1), abs_lens=[abs_lens[0]])\n",
    "ct = rep_len_tup(embed=cand_embeds.permute(0, 2, 1), abs_lens=[abs_lens[1]])"
   ]
  },
  {
   "cell_type": "code",
   "execution_count": 15,
   "id": "499d8f63",
   "metadata": {},
   "outputs": [],
   "source": [
    "# Compute the wasserstein distance and alignment between abstracts\n",
    "wd, intermediate_items = ot_distance.compute_distance(query=qt, cand=ct, return_pair_sims=True)"
   ]
  },
  {
   "cell_type": "code",
   "execution_count": 16,
   "id": "d5836fb3",
   "metadata": {},
   "outputs": [
    {
     "data": {
      "text/plain": [
       "(7, 6)"
      ]
     },
     "execution_count": 16,
     "metadata": {},
     "output_type": "execute_result"
    }
   ],
   "source": [
    "# Get the transport plan\n",
    "transport_plan = intermediate_items[3].data.numpy()[0,:abs_lens[0],:abs_lens[1]]\n",
    "transport_plan.shape"
   ]
  },
  {
   "cell_type": "code",
   "execution_count": 18,
   "id": "04b23696",
   "metadata": {},
   "outputs": [
    {
     "name": "stdout",
     "output_type": "stream",
     "text": [
      "0: This study investigates the role of team members’ self-managing behaviors in regard to three dimensions of team effectiveness.\n",
      "1: Furthermore, this study examines the moderating effect of task routineness on these relationships.\n",
      "2: The sample consists of 97 work teams (341 members and 97 immediate supervisors) drawn from a public safety organization.\n",
      "3: Results show that team self-managing behaviors are positively related to team performance, team viability, and team process improvement.\n",
      "4: Results also indicate that task routineness moderates the relationships that team self-managing behaviors have with team performance and team viability such that these relationships are stronger when the level of task routineness is low.\n",
      "5: However, this moderating effect is not significant in regard to the relationship between team self-managing behaviors and team process improvement.\n",
      "6: Taken together, these findings suggest that emphasis on team self-managing behaviors may enhance team effectiveness\n",
      "\n",
      "0: The basic work unit in innovative software organizations is the team rather than the individual.\n",
      "1: Such teams consist of a small number of people with complementary skills who are committed to a common purpose, set of performance goals, and approach for which they hold themselves mutually accountable.\n",
      "2: Work teams have many advantages, such as increased productivity, innovation, and employee satisfaction.\n",
      "3: However, their implementation doesn't always result in organizational success.\n",
      "4: It isn't enough to put individuals together and expect that they'll automatically know how to work effectively as a team.\n",
      "5: Lack of redundancy and conflict between team and individual autonomy are key issues when transforming from traditional command-and-control management to collaborative self-managing teams.\n"
     ]
    },
    {
     "data": {
      "image/png": "[encoded data removed]",
      "text/plain": [
       "<Figure size 900x600 with 2 Axes>"
      ]
     },
     "metadata": {
      "needs_background": "light"
     },
     "output_type": "display_data"
    }
   ],
   "source": [
    "# Print the sentences and plot the optimal transport plan for the pair of abstracts.\n",
    "print('\\n'.join([f'{i}: {s}' for i, s in enumerate(ex_abstracts[0]['ABSTRACT'])]))\n",
    "print('')\n",
    "print('\\n'.join([f'{i}: {s}' for i, s in enumerate(ex_abstracts[1]['ABSTRACT'])]))\n",
    "h = sns.heatmap(transport_plan, linewidths=.7, cmap='Blues')\n",
    "h.set(xlabel='Candidate', ylabel='Query')\n",
    "h.tick_params(labelsize=5)"
   ]
  },
  {
   "cell_type": "code",
   "execution_count": 19,
   "id": "963927df",
   "metadata": {},
   "outputs": [],
   "source": [
    "ex_abstracts = [\n",
    "    {'TITLE': \"Large scale metric learning from equivalence constraints\",\n",
    "     'ABSTRACT': [\"In this paper, we raise important issues on scalability and the required degree of supervision of existing Mahalanobis metric learning methods.\",\n",
    "                  \"Often rather tedious optimization procedures are applied that become computationally intractable on a large scale.\",\n",
    "                  \"Further, if one considers the constantly growing amount of data it is often infeasible to specify fully supervised labels for all data points.\",\n",
    "                  \"Instead, it is easier to specify labels in form of equivalence constraints.\",\n",
    "                  \"We introduce a simple though effective strategy to learn a distance metric from equivalence constraints, based on a statistical inference perspective.\",\n",
    "                  \"In contrast to existing methods we do not rely on complex optimization problems requiring computationally expensive iterations.\",\n",
    "                  \"Hence, our method is orders of magnitudes faster than comparable methods.\",\n",
    "                  \"Results on a variety of challenging benchmarks with rather diverse nature demonstrate the power of our method.\",\n",
    "                  \"These include faces in unconstrained environments, matching before unseen object instances and person re-identification across spatially disjoint cameras.\",\n",
    "                  \"In the latter two benchmarks we clearly outperform the state-of-the-art.\"]},\n",
    "    {'TITLE': \"PCCA: A new approach for distance learning from sparse pairwise constraints\",\n",
    "     'ABSTRACT': [\"This paper introduces Pairwise Constrained Component Analysis (PCCA), a new algorithm for learning distance metrics from sparse pairwise similarity/dissimilarity constraints in high dimensional input space, problem for which most existing distance metric learning approaches are not adapted.\",\n",
    "                  \"PCCA learns a projection into a low-dimensional space where the distance between pairs of data points respects the desired constraints, exhibiting good generalization properties in presence of high dimensional data.\",\n",
    "                  \"The paper also shows how to efficiently kernelize the approach.\",\n",
    "                  \"PCCA is experimentally validated on two challenging vision tasks, face verification and person re-identification, for which we obtain state-of-the-art results.\"]}\n",
    "]"
   ]
  },
  {
   "cell_type": "code",
   "execution_count": 20,
   "id": "3faa2d74",
   "metadata": {},
   "outputs": [],
   "source": [
    "# Pre-process the data.\n",
    "bert_batch, abs_lens, sent_token_idxs = prepare_abstracts(batch_abs=ex_abstracts,\n",
    "                                                          pt_lm_tokenizer=aspire_tok)\n",
    "\n",
    "# Get sentence embeddings for the papers.\n",
    "clsreps, contextual_sent_reps = aspire_mv_model.forward(bert_batch=bert_batch,\n",
    "                                                        abs_lens=abs_lens,\n",
    "                                                        sent_tok_idxs=sent_token_idxs)\n",
    "\n",
    "# Package the sentence embeds for use with the distance function\n",
    "query_embeds = contextual_sent_reps[0,:,:].unsqueeze(0)\n",
    "cand_embeds = contextual_sent_reps[1,:,:].unsqueeze(0)\n",
    "qt = rep_len_tup(embed=query_embeds.permute(0, 2, 1), abs_lens=[abs_lens[0]])\n",
    "ct = rep_len_tup(embed=cand_embeds.permute(0, 2, 1), abs_lens=[abs_lens[1]])\n",
    "\n",
    "# Compute the wasserstein distance and alignment between abstracts\n",
    "wd, intermediate_items = ot_distance.compute_distance(query=qt, cand=ct, return_pair_sims=True)\n",
    "\n",
    "# Get the transport plan\n",
    "transport_plan = intermediate_items[3].data.numpy()[0,:abs_lens[0],:abs_lens[1]]"
   ]
  },
  {
   "cell_type": "code",
   "execution_count": 21,
   "id": "fb64fa4c",
   "metadata": {},
   "outputs": [
    {
     "name": "stdout",
     "output_type": "stream",
     "text": [
      "0: In this paper, we raise important issues on scalability and the required degree of supervision of existing Mahalanobis metric learning methods.\n",
      "1: Often rather tedious optimization procedures are applied that become computationally intractable on a large scale.\n",
      "2: Further, if one considers the constantly growing amount of data it is often infeasible to specify fully supervised labels for all data points.\n",
      "3: Instead, it is easier to specify labels in form of equivalence constraints.\n",
      "4: We introduce a simple though effective strategy to learn a distance metric from equivalence constraints, based on a statistical inference perspective.\n",
      "5: In contrast to existing methods we do not rely on complex optimization problems requiring computationally expensive iterations.\n",
      "6: Hence, our method is orders of magnitudes faster than comparable methods.\n",
      "7: Results on a variety of challenging benchmarks with rather diverse nature demonstrate the power of our method.\n",
      "8: These include faces in unconstrained environments, matching before unseen object instances and person re-identification across spatially disjoint cameras.\n",
      "9: In the latter two benchmarks we clearly outperform the state-of-the-art.\n",
      "\n",
      "0: This paper introduces Pairwise Constrained Component Analysis (PCCA), a new algorithm for learning distance metrics from sparse pairwise similarity/dissimilarity constraints in high dimensional input space, problem for which most existing distance metric learning approaches are not adapted.\n",
      "1: PCCA learns a projection into a low-dimensional space where the distance between pairs of data points respects the desired constraints, exhibiting good generalization properties in presence of high dimensional data.\n",
      "2: The paper also shows how to efficiently kernelize the approach.\n",
      "3: PCCA is experimentally validated on two challenging vision tasks, face verification and person re-identification, for which we obtain state-of-the-art results.\n"
     ]
    },
    {
     "data": {
      "image/png": "[encoded data removed]",
      "text/plain": [
       "<Figure size 900x600 with 2 Axes>"
      ]
     },
     "metadata": {
      "needs_background": "light"
     },
     "output_type": "display_data"
    }
   ],
   "source": [
    "# Print the sentences and plot the optimal transport plan for the pair of abstracts.\n",
    "print('\\n'.join([f'{i}: {s}' for i, s in enumerate(ex_abstracts[0]['ABSTRACT'])]))\n",
    "print('')\n",
    "print('\\n'.join([f'{i}: {s}' for i, s in enumerate(ex_abstracts[1]['ABSTRACT'])]))\n",
    "h = sns.heatmap(transport_plan, linewidths=.7, cmap='Blues')\n",
    "h.set(xlabel='Candidate', ylabel='Query')\n",
    "h.tick_params(labelsize=5)"
   ]
  },
  {
   "cell_type": "code",
   "execution_count": 22,
   "id": "b3e1149e",
   "metadata": {},
   "outputs": [],
   "source": [
    "ex_abstracts = [\n",
    "    {'TITLE': \"End-to-end learning for music audio\",\n",
    "     'ABSTRACT': [\"Content-based music information retrieval tasks have traditionally been solved using engineered features and shallow processing architectures.\",\n",
    "                  \"In recent years, there has been increasing interest in using feature learning and deep architectures instead, thus reducing the required engineering effort and the need for prior knowledge.\",\n",
    "                  \"However, this new approach typically still relies on mid-level representations of music audio, e.g. spectrograms, instead of raw audio signals.\",\n",
    "                  \"In this paper, we investigate whether it is possible to apply feature learning directly to raw audio signals.\",\n",
    "                  \"We train convolutional neural networks using both approaches and compare their performance on an automatic tagging task.\",\n",
    "                  \"Although they do not outperform a spectrogram-based approach, the networks are able to autonomously discover frequency decompositions from raw audio, as well as phase-and translation-invariant feature representations.\"]},\n",
    "    {'TITLE': \"Speech acoustic modeling from raw multichannel waveforms\",\n",
    "     'ABSTRACT': [\"Standard deep neural network-based acoustic models for automatic speech recognition (ASR) rely on hand-engineered input features, typically log-mel filterbank magnitudes.\",\n",
    "                  \"In this paper, we describe a convolutional neural network - deep neural network (CNN-DNN) acoustic model which takes raw multichannel waveforms as input, i.e. without any preceding feature extraction, and learns a similar feature representation through supervised training.\",\n",
    "                  \"By operating directly in the time domain, the network is able to take advantage of the signal's fine time structure that is discarded when computing filterbank magnitude features.\",\n",
    "                  \"This structure is especially useful when analyzing multichannel inputs, where timing differences between input channels can be used to localize a signal in space.\",\n",
    "                  \"The first convolutional layer of the proposed model naturally learns a filterbank that is selective in both frequency and direction of arrival, i.e. a bank of bandpass beamformers with an auditory-like frequency scale.\",\n",
    "                  \"When trained on data corrupted with noise coming from different spatial locations, the network learns to filter them out by steering nulls in the directions corresponding to the noise sources.\",\n",
    "                  \"Experiments on a simulated multichannel dataset show that the proposed acoustic model outperforms a DNN that uses log-mel filterbank magnitude features under noisy and reverberant conditions.\"]}\n",
    "]"
   ]
  },
  {
   "cell_type": "code",
   "execution_count": 23,
   "id": "ffcfdc67",
   "metadata": {},
   "outputs": [],
   "source": [
    "# Pre-process the data.\n",
    "bert_batch, abs_lens, sent_token_idxs = prepare_abstracts(batch_abs=ex_abstracts,\n",
    "                                                          pt_lm_tokenizer=aspire_tok)\n",
    "\n",
    "# Get sentence embeddings for the papers.\n",
    "clsreps, contextual_sent_reps = aspire_mv_model.forward(bert_batch=bert_batch,\n",
    "                                                        abs_lens=abs_lens,\n",
    "                                                        sent_tok_idxs=sent_token_idxs)\n",
    "\n",
    "# Package the sentence embeds for use with the distance function\n",
    "query_embeds = contextual_sent_reps[0,:,:].unsqueeze(0)\n",
    "cand_embeds = contextual_sent_reps[1,:,:].unsqueeze(0)\n",
    "qt = rep_len_tup(embed=query_embeds.permute(0, 2, 1), abs_lens=[abs_lens[0]])\n",
    "ct = rep_len_tup(embed=cand_embeds.permute(0, 2, 1), abs_lens=[abs_lens[1]])\n",
    "\n",
    "# Compute the wasserstein distance and alignment between abstracts\n",
    "wd, intermediate_items = ot_distance.compute_distance(query=qt, cand=ct, return_pair_sims=True)\n",
    "\n",
    "# Get the transport plan\n",
    "transport_plan = intermediate_items[3].data.numpy()[0,:abs_lens[0],:abs_lens[1]]"
   ]
  },
  {
   "cell_type": "code",
   "execution_count": 24,
   "id": "7bebda63",
   "metadata": {},
   "outputs": [
    {
     "name": "stdout",
     "output_type": "stream",
     "text": [
      "0: Content-based music information retrieval tasks have traditionally been solved using engineered features and shallow processing architectures.\n",
      "1: In recent years, there has been increasing interest in using feature learning and deep architectures instead, thus reducing the required engineering effort and the need for prior knowledge.\n",
      "2: However, this new approach typically still relies on mid-level representations of music audio, e.g. spectrograms, instead of raw audio signals.\n",
      "3: In this paper, we investigate whether it is possible to apply feature learning directly to raw audio signals.\n",
      "4: We train convolutional neural networks using both approaches and compare their performance on an automatic tagging task.\n",
      "5: Although they do not outperform a spectrogram-based approach, the networks are able to autonomously discover frequency decompositions from raw audio, as well as phase-and translation-invariant feature representations.\n",
      "\n",
      "0: Standard deep neural network-based acoustic models for automatic speech recognition (ASR) rely on hand-engineered input features, typically log-mel filterbank magnitudes.\n",
      "1: In this paper, we describe a convolutional neural network - deep neural network (CNN-DNN) acoustic model which takes raw multichannel waveforms as input, i.e. without any preceding feature extraction, and learns a similar feature representation through supervised training.\n",
      "2: By operating directly in the time domain, the network is able to take advantage of the signal's fine time structure that is discarded when computing filterbank magnitude features.\n",
      "3: This structure is especially useful when analyzing multichannel inputs, where timing differences between input channels can be used to localize a signal in space.\n",
      "4: The first convolutional layer of the proposed model naturally learns a filterbank that is selective in both frequency and direction of arrival, i.e. a bank of bandpass beamformers with an auditory-like frequency scale.\n",
      "5: When trained on data corrupted with noise coming from different spatial locations, the network learns to filter them out by steering nulls in the directions corresponding to the noise sources.\n",
      "6: Experiments on a simulated multichannel dataset show that the proposed acoustic model outperforms a DNN that uses log-mel filterbank magnitude features under noisy and reverberant conditions.\n"
     ]
    },
    {
     "data": {
      "image/png": "[encoded data removed]",
      "text/plain": [
       "<Figure size 900x600 with 2 Axes>"
      ]
     },
     "metadata": {
      "needs_background": "light"
     },
     "output_type": "display_data"
    }
   ],
   "source": [
    "# Print the sentences and plot the optimal transport plan for the pair of abstracts.\n",
    "print('\\n'.join([f'{i}: {s}' for i, s in enumerate(ex_abstracts[0]['ABSTRACT'])]))\n",
    "print('')\n",
    "print('\\n'.join([f'{i}: {s}' for i, s in enumerate(ex_abstracts[1]['ABSTRACT'])]))\n",
    "h = sns.heatmap(transport_plan, linewidths=.7, cmap='Blues')\n",
    "h.set(xlabel='Candidate', ylabel='Query')\n",
    "h.tick_params(labelsize=5)"
   ]
  }
 ],
 "metadata": {
  "kernelspec": {
   "display_name": "Python 3",
   "language": "python",
   "name": "python3"
  },
  "language_info": {
   "codemirror_mode": {
    "name": "ipython",
    "version": 3
   },
   "file_extension": ".py",
   "mimetype": "text/x-python",
   "name": "python",
   "nbconvert_exporter": "python",
   "pygments_lexer": "ipython3",
   "version": "3.7.9"
  }
 },
 "nbformat": 4,
 "nbformat_minor": 5
}
